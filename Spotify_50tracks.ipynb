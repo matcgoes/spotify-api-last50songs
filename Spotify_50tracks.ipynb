{
 "cells": [
  {
   "cell_type": "code",
   "execution_count": 2,
   "metadata": {
    "scrolled": false
   },
   "outputs": [
    {
     "name": "stdout",
     "output_type": "stream",
     "text": [
      "Collecting spotipyNote: you may need to restart the kernel to use updated packages.\n",
      "  Using cached spotipy-2.16.1-py3-none-any.whl (24 kB)\n",
      "Requirement already satisfied: requests>=2.20.0 in c:\\users\\matcg\\anaconda3\\lib\\site-packages (from spotipy) (2.23.0)\n",
      "Requirement already satisfied: six>=1.10.0 in c:\\users\\matcg\\anaconda3\\lib\\site-packages (from spotipy) (1.14.0)\n",
      "Requirement already satisfied: chardet<4,>=3.0.2 in c:\\users\\matcg\\anaconda3\\lib\\site-packages (from requests>=2.20.0->spotipy) (3.0.4)\n",
      "Requirement already satisfied: urllib3!=1.25.0,!=1.25.1,<1.26,>=1.21.1 in c:\\users\\matcg\\anaconda3\\lib\\site-packages (from requests>=2.20.0->spotipy) (1.25.8)\n",
      "Requirement already satisfied: certifi>=2017.4.17 in c:\\users\\matcg\\anaconda3\\lib\\site-packages (from requests>=2.20.0->spotipy) (2020.4.5.1)\n",
      "Requirement already satisfied: idna<3,>=2.5 in c:\\users\\matcg\\anaconda3\\lib\\site-packages (from requests>=2.20.0->spotipy) (2.9)\n",
      "Installing collected packages: spotipy\n",
      "Successfully installed spotipy-2.16.1\n",
      "\n"
     ]
    }
   ],
   "source": [
    "pip install spotipy"
   ]
  },
  {
   "cell_type": "code",
   "execution_count": 100,
   "metadata": {},
   "outputs": [],
   "source": [
    "import spotipy\n",
    "from spotipy.oauth2 import SpotifyOAuth\n",
    "from secrets_spotify import *\n",
    "import pandas as pd\n",
    "import matplotlib.pyplot as plt\n",
    "import seaborn as sns\n",
    "import numpy as np"
   ]
  },
  {
   "cell_type": "code",
   "execution_count": 101,
   "metadata": {},
   "outputs": [],
   "source": [
    "redirect_uri=\"http://google.com/\"\n",
    "username='12170191826'\n",
    "\n",
    "sp = spotipy.Spotify(auth_manager=SpotifyOAuth(client_id=client_id,\n",
    "                                               client_secret=client_secret,\n",
    "                                               redirect_uri=redirect_uri,\n",
    "                                               scope=\"user-library-read\"))"
   ]
  },
  {
   "cell_type": "code",
   "execution_count": 102,
   "metadata": {},
   "outputs": [],
   "source": [
    "offset = 0"
   ]
  },
  {
   "cell_type": "code",
   "execution_count": 103,
   "metadata": {},
   "outputs": [],
   "source": [
    "columns_data = ['id','name','artist','added_at']\n",
    "\n",
    "columns_features = ['id','energy', 'liveness',\n",
    "                    'tempo', 'speechiness',\n",
    "                    'acousticness', 'instrumentalness',\n",
    "                    'time_signature', 'danceability',\n",
    "                    'key', 'duration_ms', 'loudness',\n",
    "                    'valence', 'mode', 'type', 'uri']"
   ]
  },
  {
   "cell_type": "code",
   "execution_count": 104,
   "metadata": {},
   "outputs": [],
   "source": [
    "results = sp.current_user_saved_tracks(limit=50, offset=0)"
   ]
  },
  {
   "cell_type": "code",
   "execution_count": 105,
   "metadata": {},
   "outputs": [],
   "source": [
    "data = []\n",
    "audio_features = []"
   ]
  },
  {
   "cell_type": "code",
   "execution_count": 106,
   "metadata": {},
   "outputs": [],
   "source": [
    "for item in results['items']:\n",
    "\n",
    "    id_track = item['track']['id'] \n",
    "    track_name = item['track']['name'] \n",
    "    track_artist = item['track']['artists'][0]['name']\n",
    "    added_at = item['added_at'][:10]\n",
    "\n",
    "    data.append([id_track, track_name, track_artist, added_at])\n",
    "\n",
    "    ft = sp.audio_features(id_track)[0]\n",
    "\n",
    "    audio_features.append([ft['id'],ft['energy'], ft['liveness'],\n",
    "                ft['tempo'], ft['speechiness'],\n",
    "                ft['acousticness'], ft['instrumentalness'],\n",
    "                ft['time_signature'], ft['danceability'],\n",
    "                ft['key'], ft['duration_ms'],\n",
    "                ft['loudness'], ft['valence'],\n",
    "                ft['mode'], ft['type'],\n",
    "                ft['uri']])"
   ]
  },
  {
   "cell_type": "code",
   "execution_count": 107,
   "metadata": {},
   "outputs": [],
   "source": [
    "df_track = pd.DataFrame(data, columns=columns_data)"
   ]
  },
  {
   "cell_type": "code",
   "execution_count": 108,
   "metadata": {},
   "outputs": [],
   "source": [
    "df_ft_track = pd.DataFrame(audio_features, columns=columns_features)"
   ]
  },
  {
   "cell_type": "code",
   "execution_count": 109,
   "metadata": {},
   "outputs": [],
   "source": [
    "dff = pd.merge(df_track, df_ft_track, on='id', how = 'inner')"
   ]
  },
  {
   "cell_type": "code",
   "execution_count": 110,
   "metadata": {
    "scrolled": false
   },
   "outputs": [
    {
     "data": {
      "text/html": [
       "<div>\n",
       "<style scoped>\n",
       "    .dataframe tbody tr th:only-of-type {\n",
       "        vertical-align: middle;\n",
       "    }\n",
       "\n",
       "    .dataframe tbody tr th {\n",
       "        vertical-align: top;\n",
       "    }\n",
       "\n",
       "    .dataframe thead th {\n",
       "        text-align: right;\n",
       "    }\n",
       "</style>\n",
       "<table border=\"1\" class=\"dataframe\">\n",
       "  <thead>\n",
       "    <tr style=\"text-align: right;\">\n",
       "      <th></th>\n",
       "      <th>id</th>\n",
       "      <th>name</th>\n",
       "      <th>artist</th>\n",
       "      <th>added_at</th>\n",
       "      <th>energy</th>\n",
       "      <th>liveness</th>\n",
       "      <th>tempo</th>\n",
       "      <th>speechiness</th>\n",
       "      <th>acousticness</th>\n",
       "      <th>instrumentalness</th>\n",
       "      <th>time_signature</th>\n",
       "      <th>danceability</th>\n",
       "      <th>key</th>\n",
       "      <th>duration_ms</th>\n",
       "      <th>loudness</th>\n",
       "      <th>valence</th>\n",
       "      <th>mode</th>\n",
       "      <th>type</th>\n",
       "      <th>uri</th>\n",
       "    </tr>\n",
       "  </thead>\n",
       "  <tbody>\n",
       "    <tr>\n",
       "      <th>0</th>\n",
       "      <td>4slx2fkIKddgijl3YZms9Y</td>\n",
       "      <td>Drowning</td>\n",
       "      <td>Scarlet City</td>\n",
       "      <td>2020-11-07</td>\n",
       "      <td>0.844</td>\n",
       "      <td>0.1120</td>\n",
       "      <td>121.966</td>\n",
       "      <td>0.1710</td>\n",
       "      <td>0.4220</td>\n",
       "      <td>0.000000</td>\n",
       "      <td>4</td>\n",
       "      <td>0.818</td>\n",
       "      <td>5</td>\n",
       "      <td>209512</td>\n",
       "      <td>-8.109</td>\n",
       "      <td>0.483</td>\n",
       "      <td>0</td>\n",
       "      <td>audio_features</td>\n",
       "      <td>spotify:track:4slx2fkIKddgijl3YZms9Y</td>\n",
       "    </tr>\n",
       "    <tr>\n",
       "      <th>1</th>\n",
       "      <td>39kdh6z0m3UNDfBqLLiXcz</td>\n",
       "      <td>Night 1</td>\n",
       "      <td>Ta-ku</td>\n",
       "      <td>2020-11-04</td>\n",
       "      <td>0.359</td>\n",
       "      <td>0.1120</td>\n",
       "      <td>152.185</td>\n",
       "      <td>0.0685</td>\n",
       "      <td>0.0127</td>\n",
       "      <td>0.628000</td>\n",
       "      <td>4</td>\n",
       "      <td>0.835</td>\n",
       "      <td>0</td>\n",
       "      <td>183187</td>\n",
       "      <td>-12.531</td>\n",
       "      <td>0.389</td>\n",
       "      <td>1</td>\n",
       "      <td>audio_features</td>\n",
       "      <td>spotify:track:39kdh6z0m3UNDfBqLLiXcz</td>\n",
       "    </tr>\n",
       "    <tr>\n",
       "      <th>2</th>\n",
       "      <td>2vuLi6xjzvK3idG8EwHVbJ</td>\n",
       "      <td>Companion</td>\n",
       "      <td>C4C</td>\n",
       "      <td>2020-11-01</td>\n",
       "      <td>0.225</td>\n",
       "      <td>0.1260</td>\n",
       "      <td>80.009</td>\n",
       "      <td>0.1470</td>\n",
       "      <td>0.6100</td>\n",
       "      <td>0.876000</td>\n",
       "      <td>4</td>\n",
       "      <td>0.863</td>\n",
       "      <td>7</td>\n",
       "      <td>150000</td>\n",
       "      <td>-11.586</td>\n",
       "      <td>0.325</td>\n",
       "      <td>1</td>\n",
       "      <td>audio_features</td>\n",
       "      <td>spotify:track:2vuLi6xjzvK3idG8EwHVbJ</td>\n",
       "    </tr>\n",
       "    <tr>\n",
       "      <th>3</th>\n",
       "      <td>2kmWfYjBR2dgAbB4ZBF9bT</td>\n",
       "      <td>Cold</td>\n",
       "      <td>NEFFEX</td>\n",
       "      <td>2020-10-28</td>\n",
       "      <td>0.643</td>\n",
       "      <td>0.0985</td>\n",
       "      <td>125.060</td>\n",
       "      <td>0.0877</td>\n",
       "      <td>0.0664</td>\n",
       "      <td>0.000001</td>\n",
       "      <td>4</td>\n",
       "      <td>0.786</td>\n",
       "      <td>8</td>\n",
       "      <td>186240</td>\n",
       "      <td>-8.851</td>\n",
       "      <td>0.702</td>\n",
       "      <td>1</td>\n",
       "      <td>audio_features</td>\n",
       "      <td>spotify:track:2kmWfYjBR2dgAbB4ZBF9bT</td>\n",
       "    </tr>\n",
       "    <tr>\n",
       "      <th>4</th>\n",
       "      <td>53o1Y5xDhfy5rFKpJoh7ZH</td>\n",
       "      <td>Lost</td>\n",
       "      <td>Lost Sky</td>\n",
       "      <td>2020-10-28</td>\n",
       "      <td>0.868</td>\n",
       "      <td>0.1100</td>\n",
       "      <td>149.996</td>\n",
       "      <td>0.0343</td>\n",
       "      <td>0.0338</td>\n",
       "      <td>0.504000</td>\n",
       "      <td>4</td>\n",
       "      <td>0.590</td>\n",
       "      <td>6</td>\n",
       "      <td>157192</td>\n",
       "      <td>-4.372</td>\n",
       "      <td>0.144</td>\n",
       "      <td>0</td>\n",
       "      <td>audio_features</td>\n",
       "      <td>spotify:track:53o1Y5xDhfy5rFKpJoh7ZH</td>\n",
       "    </tr>\n",
       "  </tbody>\n",
       "</table>\n",
       "</div>"
      ],
      "text/plain": [
       "                       id       name        artist    added_at  energy  \\\n",
       "0  4slx2fkIKddgijl3YZms9Y   Drowning  Scarlet City  2020-11-07   0.844   \n",
       "1  39kdh6z0m3UNDfBqLLiXcz    Night 1         Ta-ku  2020-11-04   0.359   \n",
       "2  2vuLi6xjzvK3idG8EwHVbJ  Companion           C4C  2020-11-01   0.225   \n",
       "3  2kmWfYjBR2dgAbB4ZBF9bT       Cold        NEFFEX  2020-10-28   0.643   \n",
       "4  53o1Y5xDhfy5rFKpJoh7ZH       Lost      Lost Sky  2020-10-28   0.868   \n",
       "\n",
       "   liveness    tempo  speechiness  acousticness  instrumentalness  \\\n",
       "0    0.1120  121.966       0.1710        0.4220          0.000000   \n",
       "1    0.1120  152.185       0.0685        0.0127          0.628000   \n",
       "2    0.1260   80.009       0.1470        0.6100          0.876000   \n",
       "3    0.0985  125.060       0.0877        0.0664          0.000001   \n",
       "4    0.1100  149.996       0.0343        0.0338          0.504000   \n",
       "\n",
       "   time_signature  danceability  key  duration_ms  loudness  valence  mode  \\\n",
       "0               4         0.818    5       209512    -8.109    0.483     0   \n",
       "1               4         0.835    0       183187   -12.531    0.389     1   \n",
       "2               4         0.863    7       150000   -11.586    0.325     1   \n",
       "3               4         0.786    8       186240    -8.851    0.702     1   \n",
       "4               4         0.590    6       157192    -4.372    0.144     0   \n",
       "\n",
       "             type                                   uri  \n",
       "0  audio_features  spotify:track:4slx2fkIKddgijl3YZms9Y  \n",
       "1  audio_features  spotify:track:39kdh6z0m3UNDfBqLLiXcz  \n",
       "2  audio_features  spotify:track:2vuLi6xjzvK3idG8EwHVbJ  \n",
       "3  audio_features  spotify:track:2kmWfYjBR2dgAbB4ZBF9bT  \n",
       "4  audio_features  spotify:track:53o1Y5xDhfy5rFKpJoh7ZH  "
      ]
     },
     "execution_count": 110,
     "metadata": {},
     "output_type": "execute_result"
    }
   ],
   "source": [
    "dff.head()"
   ]
  },
  {
   "cell_type": "code",
   "execution_count": 111,
   "metadata": {},
   "outputs": [
    {
     "name": "stdout",
     "output_type": "stream",
     "text": [
      "Average song time is: 3.3505313333333335 minutes\n"
     ]
    }
   ],
   "source": [
    "print(f'Average song time is: {(dff.duration_ms.mean()/1000)/60} minutes')"
   ]
  },
  {
   "cell_type": "code",
   "execution_count": 112,
   "metadata": {},
   "outputs": [
    {
     "data": {
      "text/plain": [
       "Swif7                  3\n",
       "Lost Sky               2\n",
       "Europe                 2\n",
       "Juice WRLD             2\n",
       "NEFFEX                 2\n",
       "Bazanji                1\n",
       "Lil Skies              1\n",
       "Wisin                  1\n",
       "DJ DENZ The Rooster    1\n",
       "Arizona Zervas         1\n",
       "DaBaby                 1\n",
       "Scarlet City           1\n",
       "Machine Gun Kelly      1\n",
       "Ta-ku                  1\n",
       "Basixx                 1\n",
       "Ted Nugent             1\n",
       "88rising               1\n",
       "Manowar                1\n",
       "24kGoldn               1\n",
       "YNW Melly              1\n",
       "KILLY                  1\n",
       "Tom Day                1\n",
       "StaySolidRocky         1\n",
       "blackbear              1\n",
       "Iamjakehill            1\n",
       "The Seige              1\n",
       "C4C                    1\n",
       "Tesla                  1\n",
       "Philanthrope           1\n",
       "LIZOT                  1\n",
       "Ht Bristol             1\n",
       "Cory Marks             1\n",
       "Heuse                  1\n",
       "iann dior              1\n",
       "Blue Öyster Cult       1\n",
       "Barren Gates           1\n",
       "Egzod                  1\n",
       "Bad Religion           1\n",
       "Ozuna                  1\n",
       "Travis Scott           1\n",
       "Quiet Riot             1\n",
       "The Band CAMINO        1\n",
       "Unwritten Law          1\n",
       "Tilden Parc            1\n",
       "Name: artist, dtype: int64"
      ]
     },
     "execution_count": 112,
     "metadata": {},
     "output_type": "execute_result"
    }
   ],
   "source": [
    "dff.artist.value_counts()"
   ]
  },
  {
   "cell_type": "code",
   "execution_count": 113,
   "metadata": {},
   "outputs": [],
   "source": [
    "tps = ['acousticness', 'danceability', 'energy', 'instrumentalness', 'liveness', 'speechiness', 'valence']"
   ]
  },
  {
   "cell_type": "code",
   "execution_count": 114,
   "metadata": {},
   "outputs": [],
   "source": [
    "corr = dff[tps].corr()"
   ]
  },
  {
   "cell_type": "code",
   "execution_count": 115,
   "metadata": {
    "scrolled": true
   },
   "outputs": [
    {
     "data": {
      "text/plain": [
       "<matplotlib.axes._subplots.AxesSubplot at 0x2dfd15a2d68>"
      ]
     },
     "execution_count": 115,
     "metadata": {},
     "output_type": "execute_result"
    },
    {
     "data": {
      "image/png": "[encoded data removed]",
      "text/plain": [
       "<Figure size 720x720 with 2 Axes>"
      ]
     },
     "metadata": {
      "needs_background": "light"
     },
     "output_type": "display_data"
    }
   ],
   "source": [
    "plt.figure(figsize=(10,10))\n",
    "sns.heatmap(corr, annot=True)"
   ]
  },
  {
   "cell_type": "code",
   "execution_count": 116,
   "metadata": {
    "scrolled": false
   },
   "outputs": [
    {
     "data": {
      "text/html": [
       "<div>\n",
       "<style scoped>\n",
       "    .dataframe tbody tr th:only-of-type {\n",
       "        vertical-align: middle;\n",
       "    }\n",
       "\n",
       "    .dataframe tbody tr th {\n",
       "        vertical-align: top;\n",
       "    }\n",
       "\n",
       "    .dataframe thead th {\n",
       "        text-align: right;\n",
       "    }\n",
       "</style>\n",
       "<table border=\"1\" class=\"dataframe\">\n",
       "  <thead>\n",
       "    <tr style=\"text-align: right;\">\n",
       "      <th></th>\n",
       "      <th>acousticness</th>\n",
       "      <th>danceability</th>\n",
       "      <th>energy</th>\n",
       "      <th>instrumentalness</th>\n",
       "      <th>liveness</th>\n",
       "      <th>speechiness</th>\n",
       "      <th>valence</th>\n",
       "    </tr>\n",
       "  </thead>\n",
       "  <tbody>\n",
       "    <tr>\n",
       "      <th>0</th>\n",
       "      <td>0.4220</td>\n",
       "      <td>0.818</td>\n",
       "      <td>0.844</td>\n",
       "      <td>0.000000</td>\n",
       "      <td>0.1120</td>\n",
       "      <td>0.1710</td>\n",
       "      <td>0.483</td>\n",
       "    </tr>\n",
       "    <tr>\n",
       "      <th>1</th>\n",
       "      <td>0.0127</td>\n",
       "      <td>0.835</td>\n",
       "      <td>0.359</td>\n",
       "      <td>0.628000</td>\n",
       "      <td>0.1120</td>\n",
       "      <td>0.0685</td>\n",
       "      <td>0.389</td>\n",
       "    </tr>\n",
       "    <tr>\n",
       "      <th>2</th>\n",
       "      <td>0.6100</td>\n",
       "      <td>0.863</td>\n",
       "      <td>0.225</td>\n",
       "      <td>0.876000</td>\n",
       "      <td>0.1260</td>\n",
       "      <td>0.1470</td>\n",
       "      <td>0.325</td>\n",
       "    </tr>\n",
       "    <tr>\n",
       "      <th>3</th>\n",
       "      <td>0.0664</td>\n",
       "      <td>0.786</td>\n",
       "      <td>0.643</td>\n",
       "      <td>0.000001</td>\n",
       "      <td>0.0985</td>\n",
       "      <td>0.0877</td>\n",
       "      <td>0.702</td>\n",
       "    </tr>\n",
       "    <tr>\n",
       "      <th>4</th>\n",
       "      <td>0.0338</td>\n",
       "      <td>0.590</td>\n",
       "      <td>0.868</td>\n",
       "      <td>0.504000</td>\n",
       "      <td>0.1100</td>\n",
       "      <td>0.0343</td>\n",
       "      <td>0.144</td>\n",
       "    </tr>\n",
       "  </tbody>\n",
       "</table>\n",
       "</div>"
      ],
      "text/plain": [
       "   acousticness  danceability  energy  instrumentalness  liveness  \\\n",
       "0        0.4220         0.818   0.844          0.000000    0.1120   \n",
       "1        0.0127         0.835   0.359          0.628000    0.1120   \n",
       "2        0.6100         0.863   0.225          0.876000    0.1260   \n",
       "3        0.0664         0.786   0.643          0.000001    0.0985   \n",
       "4        0.0338         0.590   0.868          0.504000    0.1100   \n",
       "\n",
       "   speechiness  valence  \n",
       "0       0.1710    0.483  \n",
       "1       0.0685    0.389  \n",
       "2       0.1470    0.325  \n",
       "3       0.0877    0.702  \n",
       "4       0.0343    0.144  "
      ]
     },
     "execution_count": 116,
     "metadata": {},
     "output_type": "execute_result"
    }
   ],
   "source": [
    "matheus_features = dff.loc[:,tps]  \n",
    "matheus_features.head()"
   ]
  },
  {
   "cell_type": "code",
   "execution_count": 117,
   "metadata": {},
   "outputs": [
    {
     "data": {
      "text/html": [
       "<div>\n",
       "<style scoped>\n",
       "    .dataframe tbody tr th:only-of-type {\n",
       "        vertical-align: middle;\n",
       "    }\n",
       "\n",
       "    .dataframe tbody tr th {\n",
       "        vertical-align: top;\n",
       "    }\n",
       "\n",
       "    .dataframe thead th {\n",
       "        text-align: right;\n",
       "    }\n",
       "</style>\n",
       "<table border=\"1\" class=\"dataframe\">\n",
       "  <thead>\n",
       "    <tr style=\"text-align: right;\">\n",
       "      <th></th>\n",
       "      <th>acousticness</th>\n",
       "      <th>danceability</th>\n",
       "      <th>energy</th>\n",
       "      <th>instrumentalness</th>\n",
       "      <th>liveness</th>\n",
       "      <th>speechiness</th>\n",
       "      <th>valence</th>\n",
       "    </tr>\n",
       "  </thead>\n",
       "  <tbody>\n",
       "    <tr>\n",
       "      <th>count</th>\n",
       "      <td>50.000000</td>\n",
       "      <td>50.000000</td>\n",
       "      <td>50.000000</td>\n",
       "      <td>50.000000</td>\n",
       "      <td>50.000000</td>\n",
       "      <td>50.000000</td>\n",
       "      <td>50.000000</td>\n",
       "    </tr>\n",
       "    <tr>\n",
       "      <th>mean</th>\n",
       "      <td>0.164825</td>\n",
       "      <td>0.629600</td>\n",
       "      <td>0.721820</td>\n",
       "      <td>0.131831</td>\n",
       "      <td>0.142994</td>\n",
       "      <td>0.086244</td>\n",
       "      <td>0.411858</td>\n",
       "    </tr>\n",
       "    <tr>\n",
       "      <th>std</th>\n",
       "      <td>0.200358</td>\n",
       "      <td>0.142856</td>\n",
       "      <td>0.191402</td>\n",
       "      <td>0.284952</td>\n",
       "      <td>0.089718</td>\n",
       "      <td>0.071974</td>\n",
       "      <td>0.217568</td>\n",
       "    </tr>\n",
       "    <tr>\n",
       "      <th>min</th>\n",
       "      <td>0.000040</td>\n",
       "      <td>0.245000</td>\n",
       "      <td>0.225000</td>\n",
       "      <td>0.000000</td>\n",
       "      <td>0.072300</td>\n",
       "      <td>0.028400</td>\n",
       "      <td>0.053300</td>\n",
       "    </tr>\n",
       "    <tr>\n",
       "      <th>25%</th>\n",
       "      <td>0.024850</td>\n",
       "      <td>0.537750</td>\n",
       "      <td>0.629500</td>\n",
       "      <td>0.000000</td>\n",
       "      <td>0.098850</td>\n",
       "      <td>0.037400</td>\n",
       "      <td>0.244750</td>\n",
       "    </tr>\n",
       "    <tr>\n",
       "      <th>50%</th>\n",
       "      <td>0.086050</td>\n",
       "      <td>0.664500</td>\n",
       "      <td>0.783500</td>\n",
       "      <td>0.000009</td>\n",
       "      <td>0.112000</td>\n",
       "      <td>0.053450</td>\n",
       "      <td>0.391000</td>\n",
       "    </tr>\n",
       "    <tr>\n",
       "      <th>75%</th>\n",
       "      <td>0.228500</td>\n",
       "      <td>0.734000</td>\n",
       "      <td>0.867500</td>\n",
       "      <td>0.001339</td>\n",
       "      <td>0.145250</td>\n",
       "      <td>0.102925</td>\n",
       "      <td>0.604250</td>\n",
       "    </tr>\n",
       "    <tr>\n",
       "      <th>max</th>\n",
       "      <td>0.811000</td>\n",
       "      <td>0.863000</td>\n",
       "      <td>0.959000</td>\n",
       "      <td>0.938000</td>\n",
       "      <td>0.605000</td>\n",
       "      <td>0.351000</td>\n",
       "      <td>0.857000</td>\n",
       "    </tr>\n",
       "  </tbody>\n",
       "</table>\n",
       "</div>"
      ],
      "text/plain": [
       "       acousticness  danceability     energy  instrumentalness   liveness  \\\n",
       "count     50.000000     50.000000  50.000000         50.000000  50.000000   \n",
       "mean       0.164825      0.629600   0.721820          0.131831   0.142994   \n",
       "std        0.200358      0.142856   0.191402          0.284952   0.089718   \n",
       "min        0.000040      0.245000   0.225000          0.000000   0.072300   \n",
       "25%        0.024850      0.537750   0.629500          0.000000   0.098850   \n",
       "50%        0.086050      0.664500   0.783500          0.000009   0.112000   \n",
       "75%        0.228500      0.734000   0.867500          0.001339   0.145250   \n",
       "max        0.811000      0.863000   0.959000          0.938000   0.605000   \n",
       "\n",
       "       speechiness    valence  \n",
       "count    50.000000  50.000000  \n",
       "mean      0.086244   0.411858  \n",
       "std       0.071974   0.217568  \n",
       "min       0.028400   0.053300  \n",
       "25%       0.037400   0.244750  \n",
       "50%       0.053450   0.391000  \n",
       "75%       0.102925   0.604250  \n",
       "max       0.351000   0.857000  "
      ]
     },
     "execution_count": 117,
     "metadata": {},
     "output_type": "execute_result"
    }
   ],
   "source": [
    "matheus_features.describe()"
   ]
  },
  {
   "cell_type": "code",
   "execution_count": 118,
   "metadata": {},
   "outputs": [],
   "source": [
    "n = len(matheus_features.mean())\n",
    "sc = matheus_features.columns"
   ]
  },
  {
   "cell_type": "code",
   "execution_count": 119,
   "metadata": {},
   "outputs": [
    {
     "data": {
      "image/png": "[encoded data removed]",
      "text/plain": [
       "<Figure size 864x432 with 1 Axes>"
      ]
     },
     "metadata": {
      "needs_background": "light"
     },
     "output_type": "display_data"
    }
   ],
   "source": [
    "plt.figure(figsize=(12,6))\n",
    "plt.barh(sc, matheus_features.mean(), label='Matheus - Last 50', color='gray')\n",
    "plt.xlabel('Features mean values',fontsize=12)\n",
    "plt.legend(loc='best')\n",
    "plt.title('Audio Features')\n",
    "\n",
    "plt.show()"
   ]
  }
 ],
 "metadata": {
  "kernelspec": {
   "display_name": "Python 3",
   "language": "python",
   "name": "python3"
  },
  "language_info": {
   "codemirror_mode": {
    "name": "ipython",
    "version": 3
   },
   "file_extension": ".py",
   "mimetype": "text/x-python",
   "name": "python",
   "nbconvert_exporter": "python",
   "pygments_lexer": "ipython3",
   "version": "3.7.1"
  }
 },
 "nbformat": 4,
 "nbformat_minor": 4
}
